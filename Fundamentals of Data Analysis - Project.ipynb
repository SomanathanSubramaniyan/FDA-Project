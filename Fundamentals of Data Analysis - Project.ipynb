{
 "cells": [
  {
   "cell_type": "markdown",
   "metadata": {},
   "source": [
    "# Project - Fundamentals of Data Analysis\n",
    "***\n"
   ]
  },
  {
   "cell_type": "markdown",
   "metadata": {},
   "source": [
    "### References\n",
    "***\n",
    "**Box Plot - Subject References**       \n",
    "    - http://www.physics.csbsju.edu/stats/box2.html\n",
    "    - https://www.khanacademy.org\n",
    "    - http://vita.had.co.nz/papers/boxplots.pdf\n",
    "    - asq.org/learn-about-quality/data-collection-analysis-tools/overview/box-whisker-plot.html\n",
    "    \n",
    "**Technical References**       \n",
    "    - http://pandas.pydata.org/pandas-docs/stable/\n",
    "    - https://docs.scipy.org/doc/numpy/reference/routines.random.html\n",
    "    - https://www.bogotobogo.com/python/python_fncs_map_filter_reduce.php\n",
    "    - https://www.analyticsvidhya.com/blog/2017/09/6-probability-distributions-data-science/\n",
    "    - http://effbot.org/zone/python-list.htm\n",
    "    - https://docs.scipy.org/doc/scipy/reference/generated/scipy.stats.truncnorm.html\n",
    "    - https://pypi.org/project/pandasql/\n",
    "***"
   ]
  },
  {
   "cell_type": "markdown",
   "metadata": {},
   "source": [
    "**Box Plot** <br>\n",
    "The box plot (a.k.a. box and whisker diagram) is a standardized way of displaying the distribution of data based on the five number summary: minimum, first quartile, median, third quartile, and maximum. "
   ]
  },
  {
   "cell_type": "markdown",
   "metadata": {},
   "source": [
    "***\n",
    "**1(a):History**<br>\n",
    "\n",
    "- Early   1950: The basic graphic form of the boxplot called the range-bar, was established.\n",
    "- Year    1969: John Tukey introduced the box plot as part of his toolkit for exploratory data analysis.\n",
    "- Year    1996: Few boxplots replaced the extremes with fixed quartiles [2% min and 98% max]\n",
    "- Year    1988: Vase plot, a variation of box plot, in this box is replaced with a symmetrical display of estimated density.\n",
    "- Year    1996: High density region box plots were introduced\n",
    "- Year    1998: Violin plots  a variation of box plot, this display the density for all data points, not just the middle half.\n",
    "- Year    1998: Bivariate boxplots were introduced\n",
    "- Year    1999: Few boxplots used semi-interquartile for skewness\n",
    "- Year    2000: Rotational box plots were introduced\n",
    "- Year    2001: Midgap plot was proposed to improve the data-ink ratio\n",
    "- Year    2003: The box-percentile plot displays a modiﬁed empirical cumulative density function (ECDF).\n",
    "- Year    2006: The letter-value boxplot was designed to overcome the shortcomings of the boxplot for large data.\n",
    "- 2009 to 2010: Used to display distributional features like kurtosis, skewness,mean, standard error and multimodality \n",
    "<br>\n",
    "***\n",
    "**1(b):Situations where it is used**<br>\n"
   ]
  },
  {
   "cell_type": "markdown",
   "metadata": {},
   "source": [
    "- **Situations** \n",
    "        - Where multiple data sets from independent sources that are related to each other in some way. \n",
    "        - For identifying outliers and for comparing distributions.\n",
    "- **Examples** \n",
    "        - Test scores between schools or classrooms\n",
    "        - Data from before and after a process change\n",
    "        - Data from duplicate machines manufacturing the same products.\n",
    "        \n",
    "***"
   ]
  },
  {
   "cell_type": "code",
   "execution_count": 25,
   "metadata": {},
   "outputs": [
    {
     "data": {
      "image/png": "[encoded data removed]",
      "text/plain": [
       "<Figure size 432x288 with 1 Axes>"
      ]
     },
     "metadata": {},
     "output_type": "display_data"
    }
   ],
   "source": [
    "# Import the wine data set from the sklearn\n",
    "# Load the wine data set into data frame\n",
    "from sklearn.datasets import load_wine\n",
    "import pandas as pd\n",
    "import numpy as np\n",
    "\n",
    "Class0,Class1,Class2 =[],[],[]\n",
    "df_alcohol = pd.DataFrame(columns=['Class-1','Class-2','Class-3'])\n",
    "                        \n",
    "\n",
    "data = load_wine()\n",
    "df = pd.DataFrame(data.data, columns=data.feature_names)\n",
    "df['target'] = data['target']\n",
    "i,y=0,0\n",
    "                          \n",
    "for index, row in df.iterrows():\n",
    "    if (row['target'] == 0): df_alcohol.at[index,'Class-1'] = (row['alcohol'])\n",
    "for index, row in df.iterrows():\n",
    "    if (row['target'] == 1): \n",
    "        df_alcohol.at[i,'Class-2'] = (row['alcohol'])\n",
    "        i = i+1\n",
    "for index, row in df.iterrows():\n",
    "    if (row['target'] == 2): \n",
    "        df_alcohol.at[y,'Class-3'] = (row['alcohol'])\n",
    "        y=y+1\n",
    "\n",
    "np.random.seed(1234)\n",
    "df = pd.DataFrame(np.random.randn(15,3),  columns=['Class-1', 'Class-2', 'Class-3'])\n",
    "boxplot = df.boxplot(column=['Class-1', 'Class-2', 'Class-3'])\n"
   ]
  },
  {
   "cell_type": "code",
   "execution_count": null,
   "metadata": {},
   "outputs": [],
   "source": []
  },
  {
   "cell_type": "code",
   "execution_count": null,
   "metadata": {},
   "outputs": [],
   "source": []
  }
 ],
 "metadata": {
  "kernelspec": {
   "display_name": "Python 3",
   "language": "python",
   "name": "python3"
  },
  "language_info": {
   "codemirror_mode": {
    "name": "ipython",
    "version": 3
   },
   "file_extension": ".py",
   "mimetype": "text/x-python",
   "name": "python",
   "nbconvert_exporter": "python",
   "pygments_lexer": "ipython3",
   "version": "3.6.5"
  }
 },
 "nbformat": 4,
 "nbformat_minor": 2
}
