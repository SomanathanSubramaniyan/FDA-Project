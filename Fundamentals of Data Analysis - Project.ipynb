{
 "cells": [
  {
   "cell_type": "markdown",
   "metadata": {},
   "source": [
    "# Project - Fundamentals of Data Analysis\n",
    "***\n"
   ]
  },
  {
   "cell_type": "markdown",
   "metadata": {},
   "source": [
    "### References\n",
    "***\n",
    "**Box Plot - Subject References**       \n",
    "    - http://www.physics.csbsju.edu/stats/box2.html\n",
    "    - https://www.khanacademy.org\n",
    "    - http://vita.had.co.nz/papers/boxplots.pdf\n",
    "    \n",
    "**Technical References**       \n",
    "    - http://pandas.pydata.org/pandas-docs/stable/\n",
    "    - https://docs.scipy.org/doc/numpy/reference/routines.random.html\n",
    "    - https://www.bogotobogo.com/python/python_fncs_map_filter_reduce.php\n",
    "    - https://www.analyticsvidhya.com/blog/2017/09/6-probability-distributions-data-science/\n",
    "    - http://effbot.org/zone/python-list.htm\n",
    "    - https://docs.scipy.org/doc/scipy/reference/generated/scipy.stats.truncnorm.html\n",
    "    - https://pypi.org/project/pandasql/\n",
    "***"
   ]
  },
  {
   "cell_type": "markdown",
   "metadata": {},
   "source": [
    "**Box Plot** <br>\n",
    "The box plot (a.k.a. box and whisker diagram) is a standardized way of displaying the distribution of data based on the five number summary: minimum, first quartile, median, third quartile, and maximum. "
   ]
  },
  {
   "attachments": {},
   "cell_type": "markdown",
   "metadata": {},
   "source": [
    "**History**<br>\n",
    "- early 1950: The basic graphic form of the boxplot called the range-bar, was established.\n",
    "- Year  1969: John Tukey introduced the box plot as part of his toolkit for exploratory data analysis.\n",
    "- Year  1996: Few boxplots replaced the extremes with fixed quartiles [2% min and 98% max]\n",
    "- Year  1999: Few boxplots used semi-interquartile for skewness\n",
    "- Year  2001: Midgap plot was proposed to improve the data-ink ratio\n",
    "- 2009to2010: Used to display distributional features like kurtosis, skewness,mean, standard error and multimodality \n",
    "- "
   ]
  },
  {
   "cell_type": "markdown",
   "metadata": {},
   "source": []
  }
 ],
 "metadata": {
  "kernelspec": {
   "display_name": "Python 3",
   "language": "python",
   "name": "python3"
  },
  "language_info": {
   "codemirror_mode": {
    "name": "ipython",
    "version": 3
   },
   "file_extension": ".py",
   "mimetype": "text/x-python",
   "name": "python",
   "nbconvert_exporter": "python",
   "pygments_lexer": "ipython3",
   "version": "3.6.5"
  }
 },
 "nbformat": 4,
 "nbformat_minor": 2
}
