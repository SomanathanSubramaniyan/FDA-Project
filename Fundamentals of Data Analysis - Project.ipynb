{
 "cells": [
  {
   "cell_type": "markdown",
   "metadata": {},
   "source": [
    "# Project - Fundamentals of Data Analysis\n",
    "***\n"
   ]
  },
  {
   "cell_type": "markdown",
   "metadata": {},
   "source": [
    "### References\n",
    "***\n",
    "**Box Plot - Subject References**       \n",
    "    - http://www.physics.csbsju.edu/stats/box2.html\n",
    "    - https://www.khanacademy.org\n",
    "    - http://vita.had.co.nz/papers/boxplots.pdf\n",
    "    - asq.org/learn-about-quality/data-collection-analysis-tools/overview/box-whisker-plot.html\n",
    "    \n",
    "**Technical References**       \n",
    "    - http://pandas.pydata.org/pandas-docs/stable/\n",
    "    - https://docs.scipy.org/doc/numpy/reference/routines.random.html\n",
    "    - https://stackoverflow.com/questions/45926230\n",
    "***"
   ]
  },
  {
   "cell_type": "markdown",
   "metadata": {},
   "source": [
    "***\n",
    "## 1.  History of the box plot and situations in which it used\n",
    "***\n",
    "**Box Plot** <br>\n",
    "The box plot (a.k.a. box and whisker diagram) is a standardized way of displaying the distribution of data based on the five number summary: minimum, first quartile, median, third quartile, and maximum. "
   ]
  },
  {
   "cell_type": "markdown",
   "metadata": {},
   "source": [
    "***\n",
    "**1(a):History**<br>\n",
    "\n",
    "- Early   1950: The basic graphic form of the boxplot called the range-bar, was established.\n",
    "- Year    1969: John Tukey introduced the box plot as part of his toolkit for exploratory data analysis.\n",
    "- Year    1996: Few boxplots replaced the extremes with fixed quartiles [2% min and 98% max]\n",
    "- Year    1988: Vase plot, a variation of box plot, in this box is replaced with a symmetrical display of estimated density.\n",
    "- Year    1996: High density region box plots were introduced\n",
    "- Year    1998: Violin plots  a variation of box plot, this display the density for all data points, not just the middle half.\n",
    "- Year    1998: Bivariate boxplots were introduced\n",
    "- Year    1999: Few boxplots used semi-interquartile for skewness\n",
    "- Year    2000: Rotational box plots were introduced\n",
    "- Year    2001: Midgap plot was proposed to improve the data-ink ratio\n",
    "- Year    2003: The box-percentile plot displays a modiﬁed empirical cumulative density function (ECDF).\n",
    "- Year    2006: The letter-value boxplot was designed to overcome the shortcomings of the boxplot for large data.\n",
    "- 2009 to 2010: Used to display distributional features like kurtosis, skewness,mean, standard error and multimodality \n",
    "<br>\n",
    "***\n",
    "**1(b):Situations where it is used**<br>\n"
   ]
  },
  {
   "cell_type": "markdown",
   "metadata": {},
   "source": [
    "- **Situations** \n",
    "        - Where multiple data sets from independent sources that are related to each other in some way. \n",
    "        - For identifying outliers and for comparing distributions.\n",
    "- **Examples** \n",
    "        - Test scores between schools or classrooms\n",
    "        - Data from before and after a process change\n",
    "        - Data from duplicate machines manufacturing the same products.\n",
    "        \n",
    "***"
   ]
  },
  {
   "cell_type": "markdown",
   "metadata": {},
   "source": [
    "***\n",
    "## 2 Demonstrate the use of Boxplot\n",
    "***\n",
    "\n",
    "- Wine dataset in Sklearn is used to demonstrate the use of boxplot\n",
    "- Alcohol content data across the 3 classes of wine is used for the data analysis\n",
    "- Display the boxplot graphs and describe the key stats from the graph\n",
    "\n",
    "***"
   ]
  },
  {
   "cell_type": "code",
   "execution_count": 2,
   "metadata": {},
   "outputs": [
    {
     "data": {
      "image/png": "[encoded data removed]",
      "text/plain": [
       "<Figure size 1800x216 with 3 Axes>"
      ]
     },
     "metadata": {},
     "output_type": "display_data"
    },
    {
     "name": "stdout",
     "output_type": "stream",
     "text": [
      "\n",
      "\n",
      "*** Wine Type:CLASS0 - Alcohol Content - Boxplot Stats ***\n",
      "\n",
      "\n",
      "The data Outliers of alcohol content in CLASS0 wine  : [array([], dtype=float64)]\n",
      "The BOX values of alcohol content in CLASS0 wine     : [array([13.4, 13.4, 14.1, 14.1, 13.4])]\n",
      "The median data of alcohol content in CLASS0 wine    : [array([13.75, 13.75])]\n",
      "The whister data of alcohol content in CLASS0 wine   : [array([13.4 , 12.85]), array([14.1 , 14.83])]\n",
      "\n",
      "\n",
      "*** Wine Type:CLASS1 - Alcohol Content - Boxplot Stats ***\n",
      "\n",
      "\n",
      "The data Outliers of alcohol content in CLASS1 wine  : [array([13.49, 13.67, 13.86])]\n",
      "The BOX values of alcohol content in CLASS1 wine     : [array([11.915, 11.915, 12.515, 12.515, 11.915])]\n",
      "The median data of alcohol content in CLASS1 wine    : [array([12.29, 12.29])]\n",
      "The whister data of alcohol content in CLASS1 wine   : [array([11.915, 11.03 ]), array([12.515, 13.34 ])]\n",
      "\n",
      "\n",
      "*** Wine Type:CLASS2 - Alcohol Content - Boxplot Stats ***\n",
      "\n",
      "\n",
      "The data Outliers of alcohol content in CLASS2 wine  : [array([], dtype=float64)]\n",
      "The BOX values of alcohol content in CLASS2 wine     : [array([12.805, 12.805, 13.505, 13.505, 12.805])]\n",
      "The median data of alcohol content in CLASS2 wine    : [array([13.165, 13.165])]\n",
      "The whister data of alcohol content in CLASS2 wine   : [array([12.805, 12.2  ]), array([13.505, 14.34 ])]\n"
     ]
    }
   ],
   "source": [
    "# Import the wine data set from the sklearn, pandas and numpy\n",
    "# Load the wine data set into data frame\n",
    "# create a dataframe for the alcohol content for the 3 classes of the wine\n",
    "# convert the 3 clssess of wine into a dataframe column for easy reading and plotting the graphs\n",
    "\n",
    "from sklearn.datasets import load_wine\n",
    "import pandas as pd\n",
    "import numpy as np\n",
    "import matplotlib.pyplot as plt\n",
    "import matplotlib\n",
    "\n",
    "# Define the class lists\n",
    "# Create a dataframe with 3 columns for 3 different types of wine\n",
    "Class0,Class1,Class2 =[],[],[]\n",
    "df_alcohol_class1 = pd.DataFrame(columns=['Class-1'])\n",
    "df_alcohol_class2 = pd.DataFrame(columns=['Class-2'])\n",
    "df_alcohol_class3 = pd.DataFrame(columns=['Class-3'])\n",
    "\n",
    "#Load the wine data and create a dataframe with wine data and add the targes (class of wine)\n",
    "data = load_wine()\n",
    "df = pd.DataFrame(data.data, columns=data.feature_names)\n",
    "df['Class of wine'] = data['target']\n",
    "i,y=0,0\n",
    "\n",
    "#Iterate through the winedata (alochol contect)\n",
    "#Create a wine class column for each alcohol contect in the dataframe \"df_alcohol\"\n",
    "for index, row in df.iterrows():\n",
    "    if (row['Class of wine'] == 0): \n",
    "        df_alcohol_class1.at[index,'Class-1'] = (row['alcohol'])\n",
    "        Class0.append(row['alcohol'])\n",
    "for index, row in df.iterrows():\n",
    "    if (row['Class of wine'] == 1): \n",
    "        df_alcohol_class2.at[i,'Class-2'] = (row['alcohol'])\n",
    "        Class1.append(row['alcohol'])\n",
    "        i = i+1\n",
    "for index, row in df.iterrows():\n",
    "    if (row['Class of wine'] == 2): \n",
    "        df_alcohol_class3.at[y,'Class-3'] = (row['alcohol'])\n",
    "        Class2.append(row['alcohol'])\n",
    "        y=y+1\n",
    "\n",
    "#Create a boxplot using different classes of wine\n",
    "#Use subplot to make 3 graps appear in the straight line\n",
    "#Assign title for each of the boxplots\n",
    "#Show the box plots\n",
    "#Ensure colours are assigned for box outline and the whiskers\n",
    "#the fliers should be marked \"+\"\n",
    "\n",
    "# Subplots - Divide the space amount the 3 graphs\n",
    "fig, axes = plt.subplots(ncols=3, figsize=(25,3))\n",
    "\n",
    "Class0.sort()\n",
    "boxplot0= axes[0].boxplot(Class0)\n",
    "axes[0].set_title('Wine Type = Class 0')\n",
    "plt.setp(boxplot0['boxes'], color='black')\n",
    "plt.setp(boxplot0['whiskers'], color='blue')\n",
    "\n",
    "Class1.sort()\n",
    "boxplot1= axes[1].boxplot(Class1)\n",
    "axes[1].set_title('Wine Type = Class 1')\n",
    "plt.setp(boxplot1['boxes'], color='green')\n",
    "plt.setp(boxplot1['whiskers'], color='red')\n",
    "plt.setp(boxplot1['fliers'], color='royalblue', marker='+')\n",
    "\n",
    "Class2.sort()\n",
    "boxplot2= axes[2].boxplot(Class2)\n",
    "axes[2].set_title('Wine Type = Class 2')\n",
    "plt.setp(boxplot2['boxes'], color='blue')\n",
    "plt.setp(boxplot2['whiskers'], color='green')\n",
    "plt.show()\n",
    "\n",
    "#bp = ax1.boxplot(data, notch=0, sym='+', vert=1, whis=1.5)\n",
    "#plt.setp(bp['boxes'], color='black')\n",
    "#plt.setp(bp['whiskers'], color='black')\n",
    "#plt.setp(bp['fliers'], color='red', marker='+')\n",
    "\n",
    "#Create function to display the key statistics from the boxplot \n",
    "# --- Outlier data points\n",
    "# --- Boxes data points - Upper quartile, Low quartile and middle quartile\n",
    "# --- Median data points\n",
    "# --- Whiskers - upper whisker and lower whisker\n",
    "\n",
    "def Displayvalues(value):\n",
    "    print (\"\\n\")\n",
    "    print (\"*** Wine Type:\" + value +\" - Alcohol Content - Boxplot Stats ***\")\n",
    "    print (\"\\n\")\n",
    "    print (\"The data Outliers of alcohol content in \" + value +\" wine \"+ \" : \"+ '{0!r}'.format(outliers))\n",
    "    print (\"The BOX values of alcohol content in \" + value +\" wine    \"+ \" : \"+ '{0!r}'.format(boxes))\n",
    "    print (\"The median data of alcohol content in \" + value +\" wine   \"+ \" : \"+ '{0!r}'.format(medians))\n",
    "    print (\"The whister data of alcohol content in \" + value +\" wine  \"+ \" : \"+ '{0!r}'.format(whiskers))\n",
    "   \n",
    "#Capture the box plot stats for CLASS 0 wine and call the print function to print the values\n",
    "outliers = [flier.get_ydata() for flier in boxplot0[\"fliers\"]]\n",
    "boxes = [box.get_ydata() for box in boxplot0[\"boxes\"]]\n",
    "medians = [median.get_ydata() for median in boxplot0[\"medians\"]]\n",
    "whiskers = [whiskers.get_ydata() for whiskers in boxplot0[\"whiskers\"]]\n",
    "Displayvalues(\"CLASS0\")\n",
    "\n",
    "# Capture the box plot stats for CLASS 1 wine and call the print function to print the values\n",
    "outliers = [flier.get_ydata() for flier in boxplot1[\"fliers\"]]\n",
    "boxes = [box.get_ydata() for box in boxplot1[\"boxes\"]]\n",
    "medians = [median.get_ydata() for median in boxplot1[\"medians\"]]\n",
    "whiskers = [whiskers.get_ydata() for whiskers in boxplot1[\"whiskers\"]]\n",
    "Displayvalues(\"CLASS1\")\n",
    "\n",
    "# Capture the box plot stats for CLASS 2 wine and call the print function to print the values\n",
    "outliers = [flier.get_ydata() for flier in boxplot2[\"fliers\"]]\n",
    "boxes = [box.get_ydata() for box in boxplot2[\"boxes\"]]\n",
    "medians = [median.get_ydata() for median in boxplot2[\"medians\"]]\n",
    "whiskers = [whiskers.get_ydata() for whiskers in boxplot2[\"whiskers\"]]\n",
    "Displayvalues(\"CLASS2\")\n"
   ]
  },
  {
   "cell_type": "markdown",
   "metadata": {},
   "source": [
    "***\n",
    "## 3 Explain the terminalogy used in boxplots\n",
    "***\n",
    "Key terminalogy used in boxplots and explanation with the wine data example\n",
    "\n",
    "   - Median\n",
    "   - Frist quartile\n",
    "   - third quartile (Tukey boxplot)\n",
    "   - Whisker\n",
    "   - percentile Vs quartile\n",
    "\n",
    "***"
   ]
  },
  {
   "cell_type": "markdown",
   "metadata": {},
   "source": [
    "***\n",
    "**Median**\n",
    "  - The median marks the mid-point of the data and is shown by the line that divides the box into two parts. \n",
    "  - Half the scores are greater than or equal to this value and half are less.\n",
    "**Example**\n",
    " - Take the class 1 wine data and sort in Ascending order\n",
    " - Take the middle number. If there are 2 numbers, then take the average.\n",
    "  "
   ]
  },
  {
   "cell_type": "code",
   "execution_count": 3,
   "metadata": {},
   "outputs": [
    {
     "name": "stdout",
     "output_type": "stream",
     "text": [
      "\n",
      "\n",
      "*** Wine Type Class 1: Median ***\n",
      "\n",
      "\n",
      "Length of the dataset                           : 71\n",
      "The middle 2 numbers are                        : 12.29\n",
      "\n",
      "\n"
     ]
    }
   ],
   "source": [
    "# Sort the Class 1 wine dataset\n",
    "# Print the Alcohol content\n",
    "print (\"\\n\")\n",
    "print (\"*** Wine Type Class 1: Median ***\")\n",
    "print (\"\\n\")\n",
    "print (\"Length of the dataset                          \" + \" : \"+ '{0!r}'.format(len(Class1)))  \n",
    "print (\"The middle 2 numbers are                       \" + \" : \"+ '{0!r}'.format(np.median( df_alcohol_class2['Class-2'])) )\n",
    "print (\"\\n\")"
   ]
  },
  {
   "cell_type": "markdown",
   "metadata": {},
   "source": [
    "***\n",
    "**Quartile**\n",
    "   - Quartiles are values that divide data into quarters. \n",
    "   - Divide your data into four segments according to where the numbers fall on the number line. The four quarters that divide a data set into quartiles are:\n",
    "        - The lowest 25% of numbers.\n",
    "        - The next lowest 25% of numbers (up to the median).\n",
    "        - The second highest 25% of numbers (above the median).\n",
    "        - The highest 25% of numbers."
   ]
  },
  {
   "cell_type": "code",
   "execution_count": 4,
   "metadata": {},
   "outputs": [
    {
     "ename": "SyntaxError",
     "evalue": "invalid syntax (<ipython-input-4-e1d20c66c5f3>, line 34)",
     "output_type": "error",
     "traceback": [
      "\u001b[1;36m  File \u001b[1;32m\"<ipython-input-4-e1d20c66c5f3>\"\u001b[1;36m, line \u001b[1;32m34\u001b[0m\n\u001b[1;33m    print (\"Q1, Median and Q3 Quartile                     \" + \" : \"+ '{0!r}'.format(quartiles))print (\"\\n\")\u001b[0m\n\u001b[1;37m                                                                                                    ^\u001b[0m\n\u001b[1;31mSyntaxError\u001b[0m\u001b[1;31m:\u001b[0m invalid syntax\n"
     ]
    }
   ],
   "source": [
    "# Function to calculate the Median, Quartile\n",
    "# The code is re-used based on question in \"https://stackoverflow.com/questions/45926230/how-to-calculate-1st-and-3rd-quartiles\"\n",
    "# Q1 and Q3 Quartiles are cacluated based on the below code snippet\n",
    "\n",
    "#***** Re-Used code set from stackoverflow :: STARTS HERE *******#\n",
    "def find_median(sorted_list):\n",
    "    indices = []\n",
    "    list_size = len(sorted_list)\n",
    "    median = 0\n",
    "    if list_size % 2 == 0:\n",
    "        indices.append(int(list_size / 2) - 1)  # -1 because index starts from 0\n",
    "        indices.append(int(list_size / 2))\n",
    "        median = (sorted_list[indices[0]] + sorted_list[indices[1]]) / 2\n",
    "        pass\n",
    "    else:\n",
    "        indices.append(int(list_size / 2))\n",
    "        median = sorted_list[indices[0]]\n",
    "        pass\n",
    "    return median, indices\n",
    "    pass\n",
    "\n",
    "#Sort the Class 1 wine dataset\n",
    "Class1.sort()\n",
    "median, median_indices = find_median(Class1)\n",
    "Q1, Q1_indices = find_median(Class1[:median_indices[0]])\n",
    "Q2, Q2_indices = find_median(Class1[median_indices[-1] + 1:])\n",
    "quartiles = [Q1, median, Q2]\n",
    "#***** Re-Used code set from stackoverflow :: ENDS HERE *******#\n",
    "\n",
    "print (\"\\n\")\n",
    "print (\"*** Wine Type Class 1: Q1, Median and Q3 Quartile ***\")\n",
    "print (\"\\n\")\n",
    "print (\"Length of the dataset                          \" + \" : \"+ '{0!r}'.format(len(Class1)))  \n",
    "print (\"Q1, Median and Q3 Quartile                     \" + \" : \"+ '{0!r}'.format(quartiles))print (\"\\n\")\n"
   ]
  },
  {
   "cell_type": "markdown",
   "metadata": {},
   "source": [
    "***\n",
    "**Percentiles** are 99 points that divide any data set or distribution into 100 equal parts. \n",
    "***\n"
   ]
  },
  {
   "cell_type": "code",
   "execution_count": 5,
   "metadata": {},
   "outputs": [
    {
     "name": "stdout",
     "output_type": "stream",
     "text": [
      "\n",
      "\n",
      "*** Wine Type Class 1: 10%,50% and 90% percentails ***\n",
      "\n",
      "\n",
      "Length of the dataset    : 71\n",
      "10 Percentaile           : 13.066\n",
      "50 Percentaile           : 13.75\n",
      "90 Percentaile           : 14.314\n",
      "\n",
      "\n"
     ]
    }
   ],
   "source": [
    "print (\"\\n\")\n",
    "print (\"*** Wine Type Class 1: 10%,50% and 90% percentails ***\")\n",
    "print (\"\\n\")\n",
    "print (\"Length of the dataset   \" + \" : \"+ '{0!r}'.format(len(Class1)))  \n",
    "print (\"10 Percentaile          \" + \" : \"+ '{0!r}'.format(df_alcohol_class1[\"Class-1\"].quantile(0.10)))\n",
    "print (\"50 Percentaile          \" + \" : \"+ '{0!r}'.format(df_alcohol_class1[\"Class-1\"].quantile(0.50)))\n",
    "print (\"90 Percentaile          \" + \" : \"+ '{0!r}'.format(df_alcohol_class1[\"Class-1\"].quantile(0.90)))\n",
    "print (\"\\n\")"
   ]
  },
  {
   "cell_type": "markdown",
   "metadata": {},
   "source": [
    "***\n",
    "## 4. Compare the box plot against other plots\n",
    "***"
   ]
  },
  {
   "cell_type": "code",
   "execution_count": null,
   "metadata": {},
   "outputs": [],
   "source": []
  }
 ],
 "metadata": {
  "kernelspec": {
   "display_name": "Python 3",
   "language": "python",
   "name": "python3"
  },
  "language_info": {
   "codemirror_mode": {
    "name": "ipython",
    "version": 3
   },
   "file_extension": ".py",
   "mimetype": "text/x-python",
   "name": "python",
   "nbconvert_exporter": "python",
   "pygments_lexer": "ipython3",
   "version": "3.6.5"
  }
 },
 "nbformat": 4,
 "nbformat_minor": 2
}
